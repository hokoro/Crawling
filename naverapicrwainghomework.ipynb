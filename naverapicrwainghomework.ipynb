{
  "nbformat": 4,
  "nbformat_minor": 0,
  "metadata": {
    "colab": {
      "name": "naverapicrwainghomework.ipynb",
      "provenance": [],
      "collapsed_sections": [],
      "authorship_tag": "ABX9TyNZ/YTcu4XIQ12RE4TtbHm3",
      "include_colab_link": true
    },
    "kernelspec": {
      "name": "python3",
      "display_name": "Python 3"
    },
    "language_info": {
      "name": "python"
    }
  },
  "cells": [
    {
      "cell_type": "markdown",
      "metadata": {
        "id": "view-in-github",
        "colab_type": "text"
      },
      "source": [
        "<a href=\"https://colab.research.google.com/github/hokoro/Crawling/blob/main/naverapicrwainghomework.ipynb\" target=\"_parent\"><img src=\"https://colab.research.google.com/assets/colab-badge.svg\" alt=\"Open In Colab\"/></a>"
      ]
    },
    {
      "cell_type": "markdown",
      "source": [
        "## Client ID = 5MCGvUYn0TA9mdO1IRmK\n",
        "## Client Pw = yX3wQfPqWP\n",
        "\n",
        "### post 변수 링크 형식 예시 \n",
        "- 'title': 'U-19 대표팀 김은중호, 신태용호와 친선전서 5-1 완승', \n",
        "\n",
        "- 'originallink': 'http://www.newsis.com/view/?id=NISX20220329_0001812653&cID=10503&pID=10500', \n",
        "- 'link': 'https://sports.news.naver.com/news.nhn?oid=003&aid=0011091271', \n",
        "- 'description': '아시안컵 예선을 통과하면 내년 열리는 아시안컵 본선에 나가고, 본선에서 4위 안에 들면 국제축구연맹(FIFA) U-20 <b>월드컵</b> 출전권을 딴다. 2023년 FIFA U-20 <b>월드컵</b>을 개최하는 인도네시아는 성공적인 대회를 치르기 위해... ', 'pubDate': 'Tue, 29 Mar 2022 20:55:00 +0900'}"
      ],
      "metadata": {
        "id": "M69HpQRARQwK"
      }
    },
    {
      "cell_type": "code",
      "execution_count": null,
      "metadata": {
        "id": "NiOapC26PwvW"
      },
      "outputs": [],
      "source": [
        "import os # 파일 관리 관련 모듈\n",
        "import sys # 변수 함수 제어 관련 모듈\n",
        "import urllib.request#url 열기 관련 모듈\n",
        "import datetime # 일정 관련 모듈\n",
        "import time #시간 관련 모듈\n",
        "import json#json 파일 관련 모듈"
      ]
    },
    {
      "cell_type": "code",
      "source": [
        "client_id = \"5MCGvUYn0TA9mdO1IRmK\" #발급받은 api _id\n",
        "client_secret = \"yX3wQfPqWP\" #발급 받은 api_secret"
      ],
      "metadata": {
        "id": "GkeingVqRxu5"
      },
      "execution_count": null,
      "outputs": []
    },
    {
      "cell_type": "code",
      "source": [
        "def getRequest(url):\n",
        "  req = urllib.request.Request(url) #인자로 받은 url 을 통해 요청을 전송\n",
        "  req.add_header(\"X-Naver-Client-Id\", client_id) #url 요청에 다른 헤더를 추가 ID 추가\n",
        "  req.add_header(\"X-Naver-Client-Secret\", client_secret)#url 요청에 다른 헤더를 추가 secret 추가\n",
        "\n",
        "  #try catch - url 성공적으로 열리는지 여부를 모르기때문에 예외처리로 에러를 해결\n",
        "  try: #요청 받은 url 을 성공적으로 열경우 \n",
        "    response = urllib.request.urlopen(req)  #url 을 성공적으로 열고 \n",
        "    if response.getcode() == 200: #response의 HTTP status code 를 리턴한다.\n",
        "      print(\"[%s] url Request Success\" % datetime.datetime.now()) #url 요청을 성곡하면 datetime 을 통한 요청 성공 시간 반환\n",
        "      return response.read().decode('utf-8') #한글을 읽어야 함으로 decode 를 utf-8 로 설정하여 읽는것을 반환 \n",
        "  except Exception as e: #요청에 실패한경우\n",
        "    print(e) #실패 에러 메시지 를 출력\n",
        "    print(\"[%s] Error for URL: %s\" %(datetime.datetime.now(),url)) #실패한 시간과 , url 을 출력\n",
        "    return None #반환할게 없으므로 None"
      ],
      "metadata": {
        "id": "Fa70vZz1SRfJ"
      },
      "execution_count": null,
      "outputs": []
    },
    {
      "cell_type": "code",
      "source": [
        "def getNaverSearch(node,srcText,start,display):\n",
        "  base = \"https://openapi.naver.com/v1/search\" #검색 api 를 사용한 기본 베이스 주소\n",
        "  node = \"/%s.json\" % node #node = json 파일 명 \n",
        "  parameters = \"?query=%s&start=%s&display=%s\" %(urllib.parse.quote(srcText),start,display) #우리가 검색할 키워드 가 담긴 이름\n",
        "  url = base + node + parameters # url 을 만들기 위해 base + node + parameter 합치기 \n",
        "  responseDecode = getRequest(url) #getRequestUrl 을 호출하여 해당 url 요청을 보냄 \n",
        "\n",
        "  if (responseDecode == None): #요청에 실패한 경우\n",
        "    return None\n",
        "  else: #요청에 성공한 경우 \n",
        "    return json.loads(responseDecode) #성공시 해당 검색 json 파일을 로드 \n"
      ],
      "metadata": {
        "id": "tWHD65hWhHnc"
      },
      "execution_count": null,
      "outputs": []
    },
    {
      "cell_type": "code",
      "source": [
        "def getPostData(post , jsonResult , cnt):\n",
        "  title = post['title']#기사 제목\n",
        "  description = post['description'] #네이버 기사 내용\n",
        "  org_link = post['originallink'] # 원본 기사 내용 \n",
        "  link = post['link']  #기사내용을 담고 있는 링크 \n",
        "  #print(post)\n",
        "\n",
        "  pDate = datetime.datetime.strptime(post['pubDate'],'%a, %d %b %Y %H:%M:%S +0900') #날짜와 시간 형식의 문자열을 datetime으로 변환하려면 strptime\n",
        "  pDate = pDate.strftime('%Y-%m-%d %H:%M:%S') #날짜와 시간(datetime)을 문자열로 출력하려면 strftime\n",
        "  #기사 내용의 정보를 dictionary 형태로 jsonResult 에 append\n",
        "  jsonResult.append({'cnt':cnt,'title':title , 'description':description, 'org_link':org_link , 'link':link , 'pDate':pDate})\n",
        "  return "
      ],
      "metadata": {
        "id": "WoypNun5j9tJ"
      },
      "execution_count": null,
      "outputs": []
    },
    {
      "cell_type": "code",
      "source": [
        "def main():\n",
        "  node = 'news'#네이버 뉴스 타이틀 검색 \n",
        "  srcText = input('검색할 명령어를 입력하세요: ') #query 문 input\n",
        "  cnt = 0 #기사 번호 index parameter\n",
        "  jsonResult = [] #json file 결과 리스트 \n",
        "  jsonResponse = getNaverSearch(node,srcText , 1 , 100) #node 와 query 문을 보내 검색 시작\n",
        "  total = jsonResponse['total'] #반환 받은 json 파일의 \n",
        "  while((jsonResponse !=None) and (jsonResponse['display'] !=0)): #검색된 기사의 내용이 끝날때까지  or url 를 받아올수 일을떄 까지 while 문을 사용하여 반복  \n",
        "    for post in jsonResponse['items']:\n",
        "\n",
        "      cnt +=1 #다음 기사로 넘어갈때 마다 연산을 통한 카운트 \n",
        "      getPostData(post,jsonResult,cnt) #해당 기사의 정보를 getPostData 를 통해 jsonResult 의 저장 \n",
        "    \n",
        "    #기사의 시작 번호 \n",
        "    start = jsonResponse['start'] + jsonResponse['display']\n",
        "    \n",
        "    #json file 의 정보 를 담기위해 검색한 쿼리 문 을 토대로 함수 호출\n",
        "    jsonResponse = getNaverSearch(node,srcText,start,100)\n",
        "    \n",
        "  print('전체 검색 결과의수 : %d 건',total) # 검색되 기사의 수 \n",
        "\n",
        "  #파일에 쓰기 위한 open 함수 \n",
        "  '''\n",
        "  open('파일명' , 'w/r' . encoding = 인코딩 할 언어) as '파일이름 '\n",
        "  '''\n",
        "  with open('%s_naver_%s.json' % (srcText,node),'w',encoding = 'utf-8') as outfile:\n",
        "    #json.dumps = json 파일을 직렬화로 읽기 위한 변수 (indent = 들여쓰기 의 수 , sort_keys = 정렬 여부 , ensure_ascii = ascii 문자의 이스케이프 보장 여부 )\n",
        "    jsonFile = json.dumps(jsonResult , indent = 4 , sort_keys = True , ensure_ascii=False)\n",
        "\n",
        "    outfile.write(jsonFile) #jsonFile을 outfile 에 쓰기 \n",
        "    print(\"가져온 데이터 : %d 건\"%(cnt)) #가져온 기사의 데이터 수 \n",
        "    print(\"%s_naver_%s.json SAVED\" %(srcText,node)) #해당 검색을 통한 json 파일이 정상적으로 저장 됨을 알림"
      ],
      "metadata": {
        "id": "XgNhgAlkl-H3"
      },
      "execution_count": null,
      "outputs": []
    },
    {
      "cell_type": "code",
      "source": [
        "if __name__ == '__main__': #main 함수 호출 실행 시킬려면 이름이 같아야함\n",
        "  main()  #함수 호출 "
      ],
      "metadata": {
        "id": "DlTVErxjqDB-",
        "colab": {
          "base_uri": "https://localhost:8080/"
        },
        "outputId": "5d06b128-7de8-4339-8a55-1ce6f5357925"
      },
      "execution_count": null,
      "outputs": [
        {
          "name": "stdout",
          "output_type": "stream",
          "text": [
            "검색할 명령어를 입력하세요: 월드컵\n"
          ]
        },
        {
          "output_type": "stream",
          "name": "stderr",
          "text": [
            "IOPub data rate exceeded.\n",
            "The notebook server will temporarily stop sending output\n",
            "to the client in order to avoid crashing it.\n",
            "To change this limit, set the config variable\n",
            "`--NotebookApp.iopub_data_rate_limit`.\n",
            "\n",
            "Current values:\n",
            "NotebookApp.iopub_data_rate_limit=1000000.0 (bytes/sec)\n",
            "NotebookApp.rate_limit_window=3.0 (secs)\n",
            "\n"
          ]
        },
        {
          "output_type": "stream",
          "name": "stdout",
          "text": [
            "HTTP Error 400: Bad Request\n",
            "[2022-04-06 06:35:30.306925] Error for URL: https://openapi.naver.com/v1/search/news.json?query=%EC%9B%94%EB%93%9C%EC%BB%B5&start=1001&display=100\n",
            "전체 검색 결과의수 : %d 건 2406679\n",
            "가져온 데이터 : 1000 건\n",
            "월드컵_naver_news.json SAVED\n"
          ]
        }
      ]
    }
  ]
}